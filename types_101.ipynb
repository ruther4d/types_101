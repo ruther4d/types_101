{
 "cells": [
  {
   "cell_type": "markdown",
   "id": "048dc1c9",
   "metadata": {
    "editable": true,
    "slideshow": {
     "slide_type": "slide"
    },
    "tags": []
   },
   "source": [
    "# Types in Python\n",
    "## Alex Rutherford\n",
    "### X September"
   ]
  },
  {
   "cell_type": "markdown",
   "id": "c1653897",
   "metadata": {
    "editable": true,
    "slideshow": {
     "slide_type": "slide"
    },
    "tags": []
   },
   "source": [
    "# The headlines\n",
    "\n",
    "- Python is a dynamically typed language\n",
    "- This trades off ease of developing for lack of robustness\n",
    "- Types should be part of documentation\n",
    "- The `typing` library helps enforce typing"
   ]
  },
  {
   "cell_type": "markdown",
   "id": "3e78a73f",
   "metadata": {
    "slideshow": {
     "slide_type": "slide"
    }
   },
   "source": [
    "# A (Horror) Story about Python Types\n",
    "\n",
    "<video controls src=\"./figs/python_type_example.mov\" />\n",
    "\n",
    "** Using [OneCompiler](https://onecompiler.com/python/42qgur5e6)"
   ]
  },
  {
   "cell_type": "markdown",
   "id": "3ad5ccc5",
   "metadata": {
    "slideshow": {
     "slide_type": "subslide"
    }
   },
   "source": [
    "## What happened?\n",
    "\n",
    "- `random.random` is a _function_\n",
    "- `random.random()` calls a function which returns a _float_ \n",
    "- In Python 2.6 Boolean comparisons OK between most types\n",
    "- `if x:` returns `True` unless x is `0` or `None`"
   ]
  },
  {
   "cell_type": "markdown",
   "id": "4804ba5a",
   "metadata": {
    "slideshow": {
     "slide_type": "slide"
    }
   },
   "source": [
    "# A Common Type Issue"
   ]
  },
  {
   "cell_type": "code",
   "execution_count": 73,
   "id": "355126e4",
   "metadata": {
    "slideshow": {
     "slide_type": "fragment"
    }
   },
   "outputs": [],
   "source": [
    "def get_last_add_one(my_list):\n",
    "    '''A simple function to get the last element of a list and add one'''\n",
    "    return my_list[-1] + 1"
   ]
  },
  {
   "cell_type": "code",
   "execution_count": 56,
   "id": "14ec0b8f",
   "metadata": {
    "slideshow": {
     "slide_type": "fragment"
    }
   },
   "outputs": [],
   "source": [
    "my_list = [1,2,3]"
   ]
  },
  {
   "cell_type": "code",
   "execution_count": 57,
   "id": "a48f9f26",
   "metadata": {
    "slideshow": {
     "slide_type": "fragment"
    }
   },
   "outputs": [
    {
     "data": {
      "text/plain": [
       "4"
      ]
     },
     "execution_count": 57,
     "metadata": {},
     "output_type": "execute_result"
    }
   ],
   "source": [
    "get_last_add_one(my_list)"
   ]
  },
  {
   "cell_type": "code",
   "execution_count": 71,
   "id": "1bb77c35",
   "metadata": {
    "slideshow": {
     "slide_type": "fragment"
    }
   },
   "outputs": [],
   "source": [
    "my_dict = {'a' : 1, 'b' : 2, 'c' : 3}"
   ]
  },
  {
   "cell_type": "code",
   "execution_count": 59,
   "id": "edb553d5",
   "metadata": {
    "slideshow": {
     "slide_type": "fragment"
    }
   },
   "outputs": [
    {
     "ename": "TypeError",
     "evalue": "pop expected at least 1 argument, got 0",
     "output_type": "error",
     "traceback": [
      "\u001b[0;31m---------------------------------------------------------------------------\u001b[0m",
      "\u001b[0;31mTypeError\u001b[0m                                 Traceback (most recent call last)",
      "Cell \u001b[0;32mIn[59], line 1\u001b[0m\n\u001b[0;32m----> 1\u001b[0m \u001b[43mget_last_add_one\u001b[49m\u001b[43m(\u001b[49m\u001b[43mmy_dict\u001b[49m\u001b[43m)\u001b[49m\n\u001b[1;32m      2\u001b[0m \u001b[38;5;66;03m# Fails because dictionary .pop() syntax is different\u001b[39;00m\n",
      "Cell \u001b[0;32mIn[53], line 3\u001b[0m, in \u001b[0;36mget_last_add_one\u001b[0;34m(my_list)\u001b[0m\n\u001b[1;32m      1\u001b[0m \u001b[38;5;28;01mdef\u001b[39;00m \u001b[38;5;21mget_last_add_one\u001b[39m(my_list):\n\u001b[1;32m      2\u001b[0m \u001b[38;5;250m    \u001b[39m\u001b[38;5;124;03m'''A simple function to get the last element of a list and add one'''\u001b[39;00m\n\u001b[0;32m----> 3\u001b[0m     \u001b[38;5;28;01mreturn\u001b[39;00m \u001b[43mmy_list\u001b[49m\u001b[38;5;241;43m.\u001b[39;49m\u001b[43mpop\u001b[49m\u001b[43m(\u001b[49m\u001b[43m)\u001b[49m \u001b[38;5;241m+\u001b[39m \u001b[38;5;241m1\u001b[39m\n",
      "\u001b[0;31mTypeError\u001b[0m: pop expected at least 1 argument, got 0"
     ]
    }
   ],
   "source": [
    "get_last_add_one(my_dict)\n",
    "# Fails because dictionary doesn't have numerical indexing"
   ]
  },
  {
   "cell_type": "markdown",
   "id": "ed20ad09",
   "metadata": {
    "editable": true,
    "slideshow": {
     "slide_type": "slide"
    },
    "tags": []
   },
   "source": [
    "# Type basics I\n",
    "\n",
    "- Everything in code has a type\n",
    "- Some are basic data structures: int, array, dictionary (hash map)\n",
    "- Some are language specific: `struct`, `NSObject`\n",
    "- Some are user defined: `MyAwesomeClass`"
   ]
  },
  {
   "cell_type": "markdown",
   "id": "9efc4f10",
   "metadata": {
    "editable": true,
    "slideshow": {
     "slide_type": "slide"
    },
    "tags": []
   },
   "source": [
    "# Type Basics II\n",
    "\n",
    "- Python variables don't need to specify their type\n",
    "- Python variables can change type ('Dynamic Typing') (add C example)\n",
    "- `type()` is your friend\n",
    "- Core Python has `int`,`float`,`str`,`list`,`dict`"
   ]
  },
  {
   "cell_type": "markdown",
   "id": "875e004a-afc4-4b70-9052-7a317ca9a72d",
   "metadata": {
    "editable": true,
    "slideshow": {
     "slide_type": "subslide"
    },
    "tags": []
   },
   "source": [
    "```\n",
    "// Declare a variable \r\n",
    "int myNum ;\r\n",
    "\r\n",
    "// Assign a value to the varia ble\r\n",
    "myNum = \n",
    "``` 15;"
   ]
  },
  {
   "cell_type": "code",
   "execution_count": 60,
   "id": "35babd6e",
   "metadata": {
    "editable": true,
    "slideshow": {
     "slide_type": "subslide"
    },
    "tags": []
   },
   "outputs": [
    {
     "data": {
      "text/plain": [
       "int"
      ]
     },
     "execution_count": 60,
     "metadata": {},
     "output_type": "execute_result"
    }
   ],
   "source": [
    "x = 1\n",
    "type(x)\n",
    "# Implicitly initialising an integer"
   ]
  },
  {
   "cell_type": "code",
   "execution_count": 61,
   "id": "7cffc54b",
   "metadata": {
    "editable": true,
    "slideshow": {
     "slide_type": "fragment"
    },
    "tags": []
   },
   "outputs": [
    {
     "data": {
      "text/plain": [
       "float"
      ]
     },
     "execution_count": 61,
     "metadata": {},
     "output_type": "execute_result"
    }
   ],
   "source": [
    "x = 0.5\n",
    "type(x)\n",
    "# Now a float"
   ]
  },
  {
   "cell_type": "code",
   "execution_count": 62,
   "id": "5cfc7da6",
   "metadata": {
    "slideshow": {
     "slide_type": "fragment"
    }
   },
   "outputs": [
    {
     "data": {
      "text/plain": [
       "str"
      ]
     },
     "execution_count": 62,
     "metadata": {},
     "output_type": "execute_result"
    }
   ],
   "source": [
    "x = 'Hello world'\n",
    "type(x)\n",
    "# Now a string"
   ]
  },
  {
   "cell_type": "code",
   "execution_count": 63,
   "id": "aaffcbd0",
   "metadata": {
    "editable": true,
    "slideshow": {
     "slide_type": "fragment"
    },
    "tags": []
   },
   "outputs": [
    {
     "data": {
      "text/plain": [
       "NoneType"
      ]
     },
     "execution_count": 63,
     "metadata": {},
     "output_type": "execute_result"
    }
   ],
   "source": [
    "type(None)"
   ]
  },
  {
   "cell_type": "markdown",
   "id": "e7aa03fc-18cf-4fba-956a-6468dc9753c5",
   "metadata": {
    "editable": true,
    "slideshow": {
     "slide_type": "subslide"
    },
    "tags": []
   },
   "source": [
    "# Aside\n",
    "\n",
    "- Arises in pySpark\n",
    "- Pandas dataframes and pySpark dataframes coexist\n",
    "```\n",
    "df = get_spark_df()\n",
    "...\n",
    "df = df.toPandas()\n",
    "...\n",
    "# Disaster\n",
    "```\n",
    "- Better to use different variables\n",
    "```\n",
    "sdf = get_spark_df()\n",
    "...\n",
    "pdf = df.toPandas()\n",
    "...\n",
    "# Not disaster\n",
    "```"
   ]
  },
  {
   "cell_type": "markdown",
   "id": "c5d1e104",
   "metadata": {
    "editable": true,
    "slideshow": {
     "slide_type": "slide"
    },
    "tags": []
   },
   "source": [
    "# Possible Solutions\n",
    "\n",
    "1. Verbose documentation\n",
    "2. Explicit `type()` checks\n",
    "3. Use a capable editor\n",
    "4. Add function annotations (`typing` library)"
   ]
  },
  {
   "cell_type": "markdown",
   "id": "b47f6f58",
   "metadata": {
    "slideshow": {
     "slide_type": "slide"
    }
   },
   "source": [
    "# 1. Verbose Documentation i.e. Doc Strings"
   ]
  },
  {
   "cell_type": "markdown",
   "id": "acdac07f",
   "metadata": {
    "editable": true,
    "slideshow": {
     "slide_type": "fragment"
    },
    "tags": []
   },
   "source": [
    "## _What makes a good Doc String?_\n",
    "\n",
    "- Only explain non trivial code\n",
    "- Describe what the code does\n",
    "- Describe the arguments and the return value\n",
    "\n",
    "\n",
    "- See [PEP 257](https://peps.python.org/pep-0257/)"
   ]
  },
  {
   "cell_type": "code",
   "execution_count": 64,
   "id": "681a9ad0",
   "metadata": {
    "editable": true,
    "slideshow": {
     "slide_type": "fragment"
    },
    "tags": []
   },
   "outputs": [],
   "source": [
    "def get_last_add_one(my_list):\n",
    "    '''Takes my_list of type list and returns the last entry plus one'''\n",
    "    return my_list[-1] + 1\n",
    "\n",
    "# This is fine"
   ]
  },
  {
   "cell_type": "code",
   "execution_count": 4,
   "id": "4e126afa-bb6b-4716-b09d-d73d00b4bee8",
   "metadata": {
    "editable": true,
    "slideshow": {
     "slide_type": ""
    },
    "tags": []
   },
   "outputs": [],
   "source": [
    "def get_last_add_one(my_list):\n",
    "    '''Takes a list and returns the last entry plus one\n",
    "    Parameters\n",
    "    -------\n",
    "    my_list : list of integers\n",
    "\n",
    "    Returns\n",
    "    ------\n",
    "    integer\n",
    "    '''\n",
    "    return my_list[-1] + 1\n",
    "\n",
    "# This is better"
   ]
  },
  {
   "cell_type": "code",
   "execution_count": null,
   "id": "002cb314-5243-4ca6-9574-ddae22a01161",
   "metadata": {
    "editable": true,
    "slideshow": {
     "slide_type": ""
    },
    "tags": []
   },
   "outputs": [],
   "source": [
    "?get_last_add_one"
   ]
  },
  {
   "cell_type": "markdown",
   "id": "1353d4d3",
   "metadata": {
    "editable": true,
    "slideshow": {
     "slide_type": "slide"
    },
    "tags": []
   },
   "source": [
    "# 2. Explicit `type()` checks"
   ]
  },
  {
   "cell_type": "code",
   "execution_count": 65,
   "id": "b8f9b760",
   "metadata": {
    "slideshow": {
     "slide_type": "fragment"
    }
   },
   "outputs": [],
   "source": [
    "def get_last_add_one(my_list):\n",
    "    '''Takes my_list of type list and returns the last entry plus one'''\n",
    "    \n",
    "    if not type(my_list) == list:\n",
    "        raise TypeError('my_list must be of type list') \n",
    "    else:\n",
    "        return my_list[-1] + 1"
   ]
  },
  {
   "cell_type": "code",
   "execution_count": 15,
   "id": "642bf825",
   "metadata": {
    "editable": true,
    "slideshow": {
     "slide_type": "subslide"
    },
    "tags": []
   },
   "outputs": [
    {
     "ename": "KeyError",
     "evalue": "-1",
     "output_type": "error",
     "traceback": [
      "\u001b[1;31m---------------------------------------------------------------------------\u001b[0m",
      "\u001b[1;31mKeyError\u001b[0m                                  Traceback (most recent call last)",
      "Cell \u001b[1;32mIn[15], line 1\u001b[0m\n\u001b[1;32m----> 1\u001b[0m get_last_add_one({\u001b[38;5;124m'\u001b[39m\u001b[38;5;124ma\u001b[39m\u001b[38;5;124m'\u001b[39m: \u001b[38;5;241m1\u001b[39m})\n",
      "Cell \u001b[1;32mIn[11], line 5\u001b[0m, in \u001b[0;36mget_last_add_one\u001b[1;34m(my_list)\u001b[0m\n\u001b[0;32m      3\u001b[0m \u001b[38;5;28;01mdef\u001b[39;00m \u001b[38;5;21mget_last_add_one\u001b[39m(my_list:List[\u001b[38;5;28mint\u001b[39m]) \u001b[38;5;241m-\u001b[39m\u001b[38;5;241m>\u001b[39m \u001b[38;5;28mint\u001b[39m:\n\u001b[0;32m      4\u001b[0m \u001b[38;5;250m    \u001b[39m\u001b[38;5;124;03m'''Takes my_list of type list and returns the last entry plus one'''\u001b[39;00m\n\u001b[1;32m----> 5\u001b[0m     \u001b[38;5;28;01mreturn\u001b[39;00m my_list[\u001b[38;5;241m-\u001b[39m\u001b[38;5;241m1\u001b[39m] \u001b[38;5;241m+\u001b[39m \u001b[38;5;241m1\u001b[39m\n",
      "\u001b[1;31mKeyError\u001b[0m: -1"
     ]
    }
   ],
   "source": [
    "get_last_add_one({'a': 1})\n",
    "# This gives an error"
   ]
  },
  {
   "cell_type": "code",
   "execution_count": 17,
   "id": "e0e0ca9c-8748-4e86-94e7-385f6adfe71a",
   "metadata": {
    "editable": true,
    "slideshow": {
     "slide_type": ""
    },
    "tags": []
   },
   "outputs": [
    {
     "data": {
      "text/plain": [
       "2"
      ]
     },
     "execution_count": 17,
     "metadata": {},
     "output_type": "execute_result"
    }
   ],
   "source": [
    "get_last_add_one({-1: 1})\n",
    "# This gives unintended behaviour"
   ]
  },
  {
   "cell_type": "markdown",
   "id": "392b9ad3",
   "metadata": {
    "editable": true,
    "slideshow": {
     "slide_type": "slide"
    },
    "tags": []
   },
   "source": [
    "# 3. Use a Capable Editor"
   ]
  },
  {
   "cell_type": "markdown",
   "id": "f66c1ea7-4aa3-4ae1-b24e-8b63aa5cbec7",
   "metadata": {},
   "source": [
    "![alt text](./figs/Capture.png)"
   ]
  },
  {
   "cell_type": "markdown",
   "id": "25a22596",
   "metadata": {
    "slideshow": {
     "slide_type": "slide"
    }
   },
   "source": [
    "# 4. Add function annotations (`typing` library)"
   ]
  },
  {
   "cell_type": "code",
   "execution_count": 11,
   "id": "7206bf0a",
   "metadata": {
    "editable": true,
    "slideshow": {
     "slide_type": "fragment"
    },
    "tags": []
   },
   "outputs": [],
   "source": [
    "from typing import List\n",
    "\n",
    "def get_last_add_one(my_list:List[int]) -> int:\n",
    "    '''Takes my_list of type list and returns the last entry plus one'''\n",
    "    return my_list[-1] + 1"
   ]
  },
  {
   "cell_type": "code",
   "execution_count": 7,
   "id": "ee945917",
   "metadata": {
    "editable": true,
    "slideshow": {
     "slide_type": "fragment"
    },
    "tags": []
   },
   "outputs": [
    {
     "data": {
      "text/plain": [
       "{'my_list': typing.List[int], 'return': int}"
      ]
     },
     "execution_count": 7,
     "metadata": {},
     "output_type": "execute_result"
    }
   ],
   "source": [
    "get_last_add_one.__annotations__"
   ]
  },
  {
   "cell_type": "code",
   "execution_count": 8,
   "id": "920b5418-446b-4d09-81c2-c27429ef8de4",
   "metadata": {
    "editable": true,
    "slideshow": {
     "slide_type": ""
    },
    "tags": []
   },
   "outputs": [
    {
     "data": {
      "text/plain": [
       "\u001b[1;31mSignature:\u001b[0m \u001b[0mget_last_add_one\u001b[0m\u001b[1;33m(\u001b[0m\u001b[0mmy_list\u001b[0m\u001b[1;33m:\u001b[0m \u001b[0mList\u001b[0m\u001b[1;33m[\u001b[0m\u001b[0mint\u001b[0m\u001b[1;33m]\u001b[0m\u001b[1;33m)\u001b[0m \u001b[1;33m->\u001b[0m \u001b[0mint\u001b[0m\u001b[1;33m\u001b[0m\u001b[1;33m\u001b[0m\u001b[0m\n",
       "\u001b[1;31mDocstring:\u001b[0m Takes my_list of type list and returns the last entry plus one\n",
       "\u001b[1;31mFile:\u001b[0m      c:\\users\\alex.rutherford\\appdata\\local\\temp\\ipykernel_3936\\1227971960.py\n",
       "\u001b[1;31mType:\u001b[0m      function"
      ]
     },
     "metadata": {},
     "output_type": "display_data"
    }
   ],
   "source": [
    "?get_last_add_one"
   ]
  },
  {
   "cell_type": "code",
   "execution_count": 12,
   "id": "a5fdb387-9f6b-4d03-ae28-b32e92fa49fb",
   "metadata": {
    "editable": true,
    "slideshow": {
     "slide_type": ""
    },
    "tags": []
   },
   "outputs": [
    {
     "ename": "KeyError",
     "evalue": "-1",
     "output_type": "error",
     "traceback": [
      "\u001b[1;31m---------------------------------------------------------------------------\u001b[0m",
      "\u001b[1;31mKeyError\u001b[0m                                  Traceback (most recent call last)",
      "Cell \u001b[1;32mIn[12], line 1\u001b[0m\n\u001b[1;32m----> 1\u001b[0m get_last_add_one({\u001b[38;5;124m'\u001b[39m\u001b[38;5;124ma\u001b[39m\u001b[38;5;124m'\u001b[39m : \u001b[38;5;241m1\u001b[39m})\n",
      "Cell \u001b[1;32mIn[11], line 5\u001b[0m, in \u001b[0;36mget_last_add_one\u001b[1;34m(my_list)\u001b[0m\n\u001b[0;32m      3\u001b[0m \u001b[38;5;28;01mdef\u001b[39;00m \u001b[38;5;21mget_last_add_one\u001b[39m(my_list:List[\u001b[38;5;28mint\u001b[39m]) \u001b[38;5;241m-\u001b[39m\u001b[38;5;241m>\u001b[39m \u001b[38;5;28mint\u001b[39m:\n\u001b[0;32m      4\u001b[0m \u001b[38;5;250m    \u001b[39m\u001b[38;5;124;03m'''Takes my_list of type list and returns the last entry plus one'''\u001b[39;00m\n\u001b[1;32m----> 5\u001b[0m     \u001b[38;5;28;01mreturn\u001b[39;00m my_list[\u001b[38;5;241m-\u001b[39m\u001b[38;5;241m1\u001b[39m] \u001b[38;5;241m+\u001b[39m \u001b[38;5;241m1\u001b[39m\n",
      "\u001b[1;31mKeyError\u001b[0m: -1"
     ]
    }
   ],
   "source": [
    "get_last_add_one({'a' : 1})"
   ]
  },
  {
   "cell_type": "markdown",
   "id": "9fb3b74a",
   "metadata": {
    "editable": true,
    "slideshow": {
     "slide_type": "subslide"
    },
    "tags": []
   },
   "source": [
    "- Clear documentation\n",
    "- Helps IDEs do type checking\n",
    "- Helps linters e.g. mypy (add details)\n",
    "\n",
    "- See [StackOverflow Discussion](https://stackoverflow.com/questions/32557920/what-are-type-hints-in-python-3-5)"
   ]
  },
  {
   "cell_type": "markdown",
   "id": "fa075215",
   "metadata": {
    "slideshow": {
     "slide_type": "slide"
    }
   },
   "source": [
    "# Look at some examples"
   ]
  },
  {
   "cell_type": "code",
   "execution_count": 77,
   "id": "c203541e",
   "metadata": {
    "slideshow": {
     "slide_type": "fragment"
    }
   },
   "outputs": [],
   "source": [
    "import matplotlib.pyplot as plt"
   ]
  },
  {
   "cell_type": "code",
   "execution_count": 78,
   "id": "85bd5b4b",
   "metadata": {},
   "outputs": [
    {
     "data": {
      "text/plain": [
       "{'x': 'float | ArrayLike',\n",
       " 'y': 'float | ArrayLike',\n",
       " 's': 'float | ArrayLike | None',\n",
       " 'c': 'ArrayLike | Sequence[ColorType] | ColorType | None',\n",
       " 'marker': 'MarkerType | None',\n",
       " 'cmap': 'str | Colormap | None',\n",
       " 'norm': 'str | Normalize | None',\n",
       " 'vmin': 'float | None',\n",
       " 'vmax': 'float | None',\n",
       " 'alpha': 'float | None',\n",
       " 'linewidths': 'float | Sequence[float] | None',\n",
       " 'edgecolors': \"Literal['face', 'none'] | ColorType | Sequence[ColorType] | None\",\n",
       " 'plotnonfinite': 'bool',\n",
       " 'return': 'PathCollection'}"
      ]
     },
     "execution_count": 78,
     "metadata": {},
     "output_type": "execute_result"
    }
   ],
   "source": [
    "plt.scatter.__annotations__"
   ]
  },
  {
   "cell_type": "code",
   "execution_count": 79,
   "id": "902e3df0",
   "metadata": {},
   "outputs": [
    {
     "name": "stdout",
     "output_type": "stream",
     "text": [
      "A scatter plot of *y* vs. *x* with varying marker size and/or color.\n",
      "\n",
      "Parameters\n",
      "----------\n",
      "x, y : float or array-like, shape (n, )\n",
      "    The data positions.\n",
      "\n",
      "s : float or array-like, shape (n, ), optional\n",
      "    The marker size in points**2 (typographic points are 1/72 in.).\n",
      "    Default is ``rcParams['lines.markersize'] ** 2``.\n",
      "\n",
      "    The linewidth and edgecolor can visually interact with the marker\n",
      "    size, and can lead to artifacts if the marker size is smaller than\n",
      "    the linewidth.\n",
      "\n",
      "    If the linewidth is greater than 0 and the edgecolor is anything\n",
      "    but *'none'*, then the effective size of the marker will be\n",
      "    increased by half the linewidth because the stroke will be centered\n",
      "    on the edge of the shape.\n",
      "\n",
      "    To eliminate the marker edge either set *linewidth=0* or\n",
      "    *edgecolor='none'*.\n",
      "\n",
      "c : array-like or list of colors or color, optional\n",
      "    The marker colors. Possible values:\n",
      "\n",
      "    - A scalar or sequence of n numbers to be mapped to colors using\n",
      "      *cmap* and *norm*.\n",
      "    - A 2D array in which the rows are RGB or RGBA.\n",
      "    - A sequence of colors of length n.\n",
      "    - A single color format string.\n",
      "\n",
      "    Note that *c* should not be a single numeric RGB or RGBA sequence\n",
      "    because that is indistinguishable from an array of values to be\n",
      "    colormapped. If you want to specify the same RGB or RGBA value for\n",
      "    all points, use a 2D array with a single row.  Otherwise,\n",
      "    value-matching will have precedence in case of a size matching with\n",
      "    *x* and *y*.\n",
      "\n",
      "    If you wish to specify a single color for all points\n",
      "    prefer the *color* keyword argument.\n",
      "\n",
      "    Defaults to `None`. In that case the marker color is determined\n",
      "    by the value of *color*, *facecolor* or *facecolors*. In case\n",
      "    those are not specified or `None`, the marker color is determined\n",
      "    by the next color of the ``Axes``' current \"shape and fill\" color\n",
      "    cycle. This cycle defaults to :rc:`axes.prop_cycle`.\n",
      "\n",
      "marker : `~.markers.MarkerStyle`, default: :rc:`scatter.marker`\n",
      "    The marker style. *marker* can be either an instance of the class\n",
      "    or the text shorthand for a particular marker.\n",
      "    See :mod:`matplotlib.markers` for more information about marker\n",
      "    styles.\n",
      "\n",
      "cmap : str or `~matplotlib.colors.Colormap`, default: :rc:`image.cmap`\n",
      "    The Colormap instance or registered colormap name used to map scalar data\n",
      "    to colors.\n",
      "\n",
      "    This parameter is ignored if *c* is RGB(A).\n",
      "\n",
      "norm : str or `~matplotlib.colors.Normalize`, optional\n",
      "    The normalization method used to scale scalar data to the [0, 1] range\n",
      "    before mapping to colors using *cmap*. By default, a linear scaling is\n",
      "    used, mapping the lowest value to 0 and the highest to 1.\n",
      "\n",
      "    If given, this can be one of the following:\n",
      "\n",
      "    - An instance of `.Normalize` or one of its subclasses\n",
      "      (see :ref:`colormapnorms`).\n",
      "    - A scale name, i.e. one of \"linear\", \"log\", \"symlog\", \"logit\", etc.  For a\n",
      "      list of available scales, call `matplotlib.scale.get_scale_names()`.\n",
      "      In that case, a suitable `.Normalize` subclass is dynamically generated\n",
      "      and instantiated.\n",
      "\n",
      "    This parameter is ignored if *c* is RGB(A).\n",
      "\n",
      "vmin, vmax : float, optional\n",
      "    When using scalar data and no explicit *norm*, *vmin* and *vmax* define\n",
      "    the data range that the colormap covers. By default, the colormap covers\n",
      "    the complete value range of the supplied data. It is an error to use\n",
      "    *vmin*/*vmax* when a *norm* instance is given (but using a `str` *norm*\n",
      "    name together with *vmin*/*vmax* is acceptable).\n",
      "\n",
      "    This parameter is ignored if *c* is RGB(A).\n",
      "\n",
      "alpha : float, default: None\n",
      "    The alpha blending value, between 0 (transparent) and 1 (opaque).\n",
      "\n",
      "linewidths : float or array-like, default: :rc:`lines.linewidth`\n",
      "    The linewidth of the marker edges. Note: The default *edgecolors*\n",
      "    is 'face'. You may want to change this as well.\n",
      "\n",
      "edgecolors : {'face', 'none', *None*} or color or sequence of color, default: :rc:`scatter.edgecolors`\n",
      "    The edge color of the marker. Possible values:\n",
      "\n",
      "    - 'face': The edge color will always be the same as the face color.\n",
      "    - 'none': No patch boundary will be drawn.\n",
      "    - A color or sequence of colors.\n",
      "\n",
      "    For non-filled markers, *edgecolors* is ignored. Instead, the color\n",
      "    is determined like with 'face', i.e. from *c*, *colors*, or\n",
      "    *facecolors*.\n",
      "\n",
      "plotnonfinite : bool, default: False\n",
      "    Whether to plot points with nonfinite *c* (i.e. ``inf``, ``-inf``\n",
      "    or ``nan``). If ``True`` the points are drawn with the *bad*\n",
      "    colormap color (see `.Colormap.set_bad`).\n",
      "\n",
      "Returns\n",
      "-------\n",
      "`~matplotlib.collections.PathCollection`\n",
      "\n",
      "Other Parameters\n",
      "----------------\n",
      "data : indexable object, optional\n",
      "    If given, the following parameters also accept a string ``s``, which is\n",
      "    interpreted as ``data[s]`` (unless this raises an exception):\n",
      "\n",
      "    *x*, *y*, *s*, *linewidths*, *edgecolors*, *c*, *facecolor*, *facecolors*, *color*\n",
      "**kwargs : `~matplotlib.collections.Collection` properties\n",
      "\n",
      "See Also\n",
      "--------\n",
      "plot : To plot scatter plots when markers are identical in size and\n",
      "    color.\n",
      "\n",
      "Notes\n",
      "-----\n",
      "* The `.plot` function will be faster for scatterplots where markers\n",
      "  don't vary in size or color.\n",
      "\n",
      "* Any or all of *x*, *y*, *s*, and *c* may be masked arrays, in which\n",
      "  case all masks will be combined and only unmasked points will be\n",
      "  plotted.\n",
      "\n",
      "* Fundamentally, scatter works with 1D arrays; *x*, *y*, *s*, and *c*\n",
      "  may be input as N-D arrays, but within scatter they will be\n",
      "  flattened. The exception is *c*, which will be flattened only if its\n",
      "  size matches the size of *x* and *y*.\n"
     ]
    }
   ],
   "source": [
    "print(plt.scatter.__doc__)"
   ]
  },
  {
   "cell_type": "code",
   "execution_count": null,
   "id": "dd5ffc55",
   "metadata": {},
   "outputs": [],
   "source": []
  }
 ],
 "metadata": {
  "celltoolbar": "Slideshow",
  "kernelspec": {
   "display_name": "Python 3 (ipykernel)",
   "language": "python",
   "name": "python3"
  },
  "language_info": {
   "codemirror_mode": {
    "name": "ipython",
    "version": 3
   },
   "file_extension": ".py",
   "mimetype": "text/x-python",
   "name": "python",
   "nbconvert_exporter": "python",
   "pygments_lexer": "ipython3",
   "version": "3.11.7"
  }
 },
 "nbformat": 4,
 "nbformat_minor": 5
}
